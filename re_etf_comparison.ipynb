{
 "cells": [
  {
   "cell_type": "code",
   "execution_count": 241,
   "id": "40171930",
   "metadata": {},
   "outputs": [],
   "source": [
    "# %\n",
    "import pandas as pd\n",
    "from matplotlib import pyplot as plt\n",
    "import numpy as np\n",
    "from numpy.random import normal\n",
    "import numpy_financial as npf\n",
    "from matplotlib.axes import Axes\n",
    "from typing import List, Tuple\n",
    "# %"
   ]
  },
  {
   "cell_type": "markdown",
   "id": "25b72342",
   "metadata": {},
   "source": [
    "This notebook shows how to use Monte Carlo simulations to compare the performance of a real estate (RE) and ETF portfolio. "
   ]
  },
  {
   "cell_type": "markdown",
   "id": "b3ae6d24-28ef-4aac-90b9-6ceb5dfc85f2",
   "metadata": {},
   "source": [
    "Let's start by defining some generic parameters"
   ]
  },
  {
   "cell_type": "code",
   "execution_count": 242,
   "id": "a2d9870a",
   "metadata": {
    "tags": []
   },
   "outputs": [],
   "source": [
    "##### GENERAL\n",
    "INITIAL_CAPITAL = 100_000\n",
    "INVESTMENT_HORIZON = 30\n",
    "N_SAMPLE = 10_000\n",
    "INFLATION_MEAN = 1.4/100\n",
    "INFLATION_STD = 1/100\n",
    "\n",
    "#### charts parameters\n",
    "PLOT_PERCENTILES = [0.1, 0.25, 0.5, 0.75, 0.9]\n",
    "SP_FIGSIZE = [12.12, 4.]"
   ]
  },
  {
   "cell_type": "markdown",
   "id": "51fcb49f-bf9d-41f3-951c-dde405f430c8",
   "metadata": {},
   "source": [
    "We will consider 3 quantities as random variables, namely\n",
    "- the yearly RE appreciation\n",
    "- the yearly ETF returns\n",
    "- the inflation\n",
    "\n",
    "We will use pandas dataframes to store those quantities (and the quantities that derive from them). The index will store the year while the columns will store the scenarios. We will therefore have dataframes of shapes (INVESTMENT_HORIZON, N_SAMPLE)"
   ]
  },
  {
   "cell_type": "code",
   "execution_count": 243,
   "id": "bbbe3a88",
   "metadata": {
    "lines_to_next_cell": 2,
    "tags": []
   },
   "outputs": [],
   "source": [
    "mc_shapes = [INVESTMENT_HORIZON, N_SAMPLE]\n",
    "inflation = pd.DataFrame(normal(INFLATION_MEAN, INFLATION_STD, mc_shapes))\n",
    "inflation.iloc[0, :] = 0 #we dont want to index price on the first year so we manually set the inflation to 0"
   ]
  },
  {
   "cell_type": "markdown",
   "id": "bf909bab-6273-49b9-960d-15f85951ac60",
   "metadata": {},
   "source": [
    "here is how the inflation dataframe looks like"
   ]
  },
  {
   "cell_type": "code",
   "execution_count": 244,
   "id": "190eb5e5-d8fc-4a00-b3f5-eed3cae14f19",
   "metadata": {},
   "outputs": [
    {
     "data": {
      "text/html": [
       "<div>\n",
       "<style scoped>\n",
       "    .dataframe tbody tr th:only-of-type {\n",
       "        vertical-align: middle;\n",
       "    }\n",
       "\n",
       "    .dataframe tbody tr th {\n",
       "        vertical-align: top;\n",
       "    }\n",
       "\n",
       "    .dataframe thead th {\n",
       "        text-align: right;\n",
       "    }\n",
       "</style>\n",
       "<table border=\"1\" class=\"dataframe\">\n",
       "  <thead>\n",
       "    <tr style=\"text-align: right;\">\n",
       "      <th></th>\n",
       "      <th>0</th>\n",
       "      <th>1</th>\n",
       "      <th>2</th>\n",
       "      <th>3</th>\n",
       "      <th>4</th>\n",
       "      <th>5</th>\n",
       "      <th>6</th>\n",
       "      <th>7</th>\n",
       "      <th>8</th>\n",
       "      <th>9</th>\n",
       "      <th>...</th>\n",
       "      <th>9990</th>\n",
       "      <th>9991</th>\n",
       "      <th>9992</th>\n",
       "      <th>9993</th>\n",
       "      <th>9994</th>\n",
       "      <th>9995</th>\n",
       "      <th>9996</th>\n",
       "      <th>9997</th>\n",
       "      <th>9998</th>\n",
       "      <th>9999</th>\n",
       "    </tr>\n",
       "  </thead>\n",
       "  <tbody>\n",
       "    <tr>\n",
       "      <th>0</th>\n",
       "      <td>0.000000</td>\n",
       "      <td>0.000000</td>\n",
       "      <td>0.000000</td>\n",
       "      <td>0.000000</td>\n",
       "      <td>0.000000</td>\n",
       "      <td>0.000000</td>\n",
       "      <td>0.000000</td>\n",
       "      <td>0.000000</td>\n",
       "      <td>0.000000</td>\n",
       "      <td>0.000000</td>\n",
       "      <td>...</td>\n",
       "      <td>0.000000</td>\n",
       "      <td>0.000000</td>\n",
       "      <td>0.000000</td>\n",
       "      <td>0.000000</td>\n",
       "      <td>0.000000</td>\n",
       "      <td>0.000000</td>\n",
       "      <td>0.000000</td>\n",
       "      <td>0.000000</td>\n",
       "      <td>0.000000</td>\n",
       "      <td>0.000000</td>\n",
       "    </tr>\n",
       "    <tr>\n",
       "      <th>1</th>\n",
       "      <td>0.003094</td>\n",
       "      <td>0.020467</td>\n",
       "      <td>0.022913</td>\n",
       "      <td>-0.002157</td>\n",
       "      <td>0.026782</td>\n",
       "      <td>0.023592</td>\n",
       "      <td>0.024779</td>\n",
       "      <td>-0.003088</td>\n",
       "      <td>0.017347</td>\n",
       "      <td>-0.001679</td>\n",
       "      <td>...</td>\n",
       "      <td>0.022748</td>\n",
       "      <td>0.006069</td>\n",
       "      <td>0.014193</td>\n",
       "      <td>0.006268</td>\n",
       "      <td>0.005612</td>\n",
       "      <td>0.008691</td>\n",
       "      <td>0.006728</td>\n",
       "      <td>0.009020</td>\n",
       "      <td>0.014599</td>\n",
       "      <td>0.024340</td>\n",
       "    </tr>\n",
       "    <tr>\n",
       "      <th>2</th>\n",
       "      <td>0.016303</td>\n",
       "      <td>0.015602</td>\n",
       "      <td>0.021443</td>\n",
       "      <td>0.018045</td>\n",
       "      <td>0.009812</td>\n",
       "      <td>0.006157</td>\n",
       "      <td>0.024395</td>\n",
       "      <td>0.002211</td>\n",
       "      <td>0.008414</td>\n",
       "      <td>0.024884</td>\n",
       "      <td>...</td>\n",
       "      <td>-0.000831</td>\n",
       "      <td>0.003272</td>\n",
       "      <td>0.007014</td>\n",
       "      <td>0.009632</td>\n",
       "      <td>0.011302</td>\n",
       "      <td>0.017911</td>\n",
       "      <td>0.008951</td>\n",
       "      <td>0.013704</td>\n",
       "      <td>0.027273</td>\n",
       "      <td>0.010198</td>\n",
       "    </tr>\n",
       "    <tr>\n",
       "      <th>3</th>\n",
       "      <td>0.013949</td>\n",
       "      <td>0.013789</td>\n",
       "      <td>-0.002212</td>\n",
       "      <td>0.014635</td>\n",
       "      <td>0.031561</td>\n",
       "      <td>0.004203</td>\n",
       "      <td>0.013772</td>\n",
       "      <td>0.035763</td>\n",
       "      <td>0.026862</td>\n",
       "      <td>0.002457</td>\n",
       "      <td>...</td>\n",
       "      <td>0.026572</td>\n",
       "      <td>0.034720</td>\n",
       "      <td>-0.006321</td>\n",
       "      <td>-0.000405</td>\n",
       "      <td>0.010870</td>\n",
       "      <td>0.013111</td>\n",
       "      <td>0.020630</td>\n",
       "      <td>-0.001070</td>\n",
       "      <td>0.003656</td>\n",
       "      <td>0.026087</td>\n",
       "    </tr>\n",
       "    <tr>\n",
       "      <th>4</th>\n",
       "      <td>0.000588</td>\n",
       "      <td>0.011361</td>\n",
       "      <td>0.016151</td>\n",
       "      <td>0.018191</td>\n",
       "      <td>0.009452</td>\n",
       "      <td>0.015115</td>\n",
       "      <td>0.011995</td>\n",
       "      <td>0.014321</td>\n",
       "      <td>0.022388</td>\n",
       "      <td>0.036713</td>\n",
       "      <td>...</td>\n",
       "      <td>0.015920</td>\n",
       "      <td>0.005092</td>\n",
       "      <td>0.002074</td>\n",
       "      <td>0.001003</td>\n",
       "      <td>0.004142</td>\n",
       "      <td>-0.000371</td>\n",
       "      <td>0.018153</td>\n",
       "      <td>0.009124</td>\n",
       "      <td>0.007369</td>\n",
       "      <td>0.030104</td>\n",
       "    </tr>\n",
       "  </tbody>\n",
       "</table>\n",
       "<p>5 rows × 10000 columns</p>\n",
       "</div>"
      ],
      "text/plain": [
       "       0         1         2         3         4         5         6     \\\n",
       "0  0.000000  0.000000  0.000000  0.000000  0.000000  0.000000  0.000000   \n",
       "1  0.003094  0.020467  0.022913 -0.002157  0.026782  0.023592  0.024779   \n",
       "2  0.016303  0.015602  0.021443  0.018045  0.009812  0.006157  0.024395   \n",
       "3  0.013949  0.013789 -0.002212  0.014635  0.031561  0.004203  0.013772   \n",
       "4  0.000588  0.011361  0.016151  0.018191  0.009452  0.015115  0.011995   \n",
       "\n",
       "       7         8         9     ...      9990      9991      9992      9993  \\\n",
       "0  0.000000  0.000000  0.000000  ...  0.000000  0.000000  0.000000  0.000000   \n",
       "1 -0.003088  0.017347 -0.001679  ...  0.022748  0.006069  0.014193  0.006268   \n",
       "2  0.002211  0.008414  0.024884  ... -0.000831  0.003272  0.007014  0.009632   \n",
       "3  0.035763  0.026862  0.002457  ...  0.026572  0.034720 -0.006321 -0.000405   \n",
       "4  0.014321  0.022388  0.036713  ...  0.015920  0.005092  0.002074  0.001003   \n",
       "\n",
       "       9994      9995      9996      9997      9998      9999  \n",
       "0  0.000000  0.000000  0.000000  0.000000  0.000000  0.000000  \n",
       "1  0.005612  0.008691  0.006728  0.009020  0.014599  0.024340  \n",
       "2  0.011302  0.017911  0.008951  0.013704  0.027273  0.010198  \n",
       "3  0.010870  0.013111  0.020630 -0.001070  0.003656  0.026087  \n",
       "4  0.004142 -0.000371  0.018153  0.009124  0.007369  0.030104  \n",
       "\n",
       "[5 rows x 10000 columns]"
      ]
     },
     "execution_count": 244,
     "metadata": {},
     "output_type": "execute_result"
    }
   ],
   "source": [
    "inflation.head()"
   ]
  },
  {
   "cell_type": "markdown",
   "id": "b9a4d7c4-9847-47f9-8a6b-64673ec10753",
   "metadata": {},
   "source": [
    "Let's now define a bunch of parameters related to RE.\n",
    "\n",
    "**Important Note:** the time unit used in this analysis is the year. Since mortgages are generally repaid on a monthly basis, we will need to do some units conversions from months to years. So dont be surprised if you see many `*12`or things like that"
   ]
  },
  {
   "cell_type": "code",
   "execution_count": 245,
   "id": "f4ae9361",
   "metadata": {},
   "outputs": [],
   "source": [
    "##### REAL ESTATE \n",
    "DOWN_PAYMENT = 20/100 \n",
    "CLOSING_COST = 16/100\n",
    "YEARLY_INTEREST_RATE = 1.5/100\n",
    "LOAN_TERM = 25\n",
    "RE_APPRECIATION_MEAN = 3.5/100\n",
    "RE_APPRECIATION_STD = 2.7/100\n",
    "RENTAL_YIELD = 4.2/100\n",
    "VACANCY_RATE = 5/100\n",
    "PROPERTY_TAX = 0.5/100\n",
    "RENTAL_INCOME_TAX = 0/100\n",
    "MAINTENANCE_COST = 1/100\n",
    "MANAGEMENT_FEE = 0.1/100"
   ]
  },
  {
   "cell_type": "markdown",
   "id": "ebdf4f32-627c-46ed-8dc4-9163874c92c3",
   "metadata": {},
   "source": [
    "we need to initialize a few variables (most of them will be dataframes of size [INVESTMENT_HORIZON, N_SAMPLE]). "
   ]
  },
  {
   "cell_type": "code",
   "execution_count": 246,
   "id": "bc4c9dae-8df0-4460-a5d2-2a96de2d9fb4",
   "metadata": {},
   "outputs": [],
   "source": [
    "def initialize_values(initial_value: float, shapes: List) -> pd.DataFrame:\n",
    "    \"\"\" create df of shape shapes, filled with zeros except for the first line\n",
    "\n",
    "    Parameters\n",
    "    ----------\n",
    "    initial_value : float\n",
    "    shapes : List\n",
    "\n",
    "    Returns\n",
    "    -------\n",
    "    pd.DataFrame\n",
    "\n",
    "    \"\"\"\n",
    "    df = pd.DataFrame(np.zeros(shapes))\n",
    "    df.iloc[0] = initial_value\n",
    "    return df"
   ]
  },
  {
   "cell_type": "code",
   "execution_count": 247,
   "id": "559970bc",
   "metadata": {},
   "outputs": [],
   "source": [
    "##### REAL ESTATE \n",
    "initial_re_value = INITIAL_CAPITAL / (DOWN_PAYMENT + CLOSING_COST)\n",
    "re_values = initialize_values(initial_re_value, mc_shapes)\n",
    "re_invested_amounts = initialize_values(INITIAL_CAPITAL, mc_shapes)"
   ]
  },
  {
   "cell_type": "markdown",
   "id": "da30743d-f79f-4c20-970b-83af3c0288c3",
   "metadata": {},
   "source": [
    "for example the property value `re_values` at the first year is simply equal to the initial value of the home. We leave the remaining values to 0, they will be updated down the path based on the Monte Carlo simulation\n"
   ]
  },
  {
   "cell_type": "code",
   "execution_count": 248,
   "id": "4afda5e6-a63d-402e-bc58-081060cf88b3",
   "metadata": {},
   "outputs": [
    {
     "data": {
      "text/html": [
       "<div>\n",
       "<style scoped>\n",
       "    .dataframe tbody tr th:only-of-type {\n",
       "        vertical-align: middle;\n",
       "    }\n",
       "\n",
       "    .dataframe tbody tr th {\n",
       "        vertical-align: top;\n",
       "    }\n",
       "\n",
       "    .dataframe thead th {\n",
       "        text-align: right;\n",
       "    }\n",
       "</style>\n",
       "<table border=\"1\" class=\"dataframe\">\n",
       "  <thead>\n",
       "    <tr style=\"text-align: right;\">\n",
       "      <th></th>\n",
       "      <th>0</th>\n",
       "      <th>1</th>\n",
       "      <th>2</th>\n",
       "      <th>3</th>\n",
       "      <th>4</th>\n",
       "      <th>5</th>\n",
       "      <th>6</th>\n",
       "      <th>7</th>\n",
       "      <th>8</th>\n",
       "      <th>9</th>\n",
       "      <th>...</th>\n",
       "      <th>9990</th>\n",
       "      <th>9991</th>\n",
       "      <th>9992</th>\n",
       "      <th>9993</th>\n",
       "      <th>9994</th>\n",
       "      <th>9995</th>\n",
       "      <th>9996</th>\n",
       "      <th>9997</th>\n",
       "      <th>9998</th>\n",
       "      <th>9999</th>\n",
       "    </tr>\n",
       "  </thead>\n",
       "  <tbody>\n",
       "    <tr>\n",
       "      <th>0</th>\n",
       "      <td>277777.777778</td>\n",
       "      <td>277777.777778</td>\n",
       "      <td>277777.777778</td>\n",
       "      <td>277777.777778</td>\n",
       "      <td>277777.777778</td>\n",
       "      <td>277777.777778</td>\n",
       "      <td>277777.777778</td>\n",
       "      <td>277777.777778</td>\n",
       "      <td>277777.777778</td>\n",
       "      <td>277777.777778</td>\n",
       "      <td>...</td>\n",
       "      <td>277777.777778</td>\n",
       "      <td>277777.777778</td>\n",
       "      <td>277777.777778</td>\n",
       "      <td>277777.777778</td>\n",
       "      <td>277777.777778</td>\n",
       "      <td>277777.777778</td>\n",
       "      <td>277777.777778</td>\n",
       "      <td>277777.777778</td>\n",
       "      <td>277777.777778</td>\n",
       "      <td>277777.777778</td>\n",
       "    </tr>\n",
       "    <tr>\n",
       "      <th>1</th>\n",
       "      <td>0.000000</td>\n",
       "      <td>0.000000</td>\n",
       "      <td>0.000000</td>\n",
       "      <td>0.000000</td>\n",
       "      <td>0.000000</td>\n",
       "      <td>0.000000</td>\n",
       "      <td>0.000000</td>\n",
       "      <td>0.000000</td>\n",
       "      <td>0.000000</td>\n",
       "      <td>0.000000</td>\n",
       "      <td>...</td>\n",
       "      <td>0.000000</td>\n",
       "      <td>0.000000</td>\n",
       "      <td>0.000000</td>\n",
       "      <td>0.000000</td>\n",
       "      <td>0.000000</td>\n",
       "      <td>0.000000</td>\n",
       "      <td>0.000000</td>\n",
       "      <td>0.000000</td>\n",
       "      <td>0.000000</td>\n",
       "      <td>0.000000</td>\n",
       "    </tr>\n",
       "    <tr>\n",
       "      <th>2</th>\n",
       "      <td>0.000000</td>\n",
       "      <td>0.000000</td>\n",
       "      <td>0.000000</td>\n",
       "      <td>0.000000</td>\n",
       "      <td>0.000000</td>\n",
       "      <td>0.000000</td>\n",
       "      <td>0.000000</td>\n",
       "      <td>0.000000</td>\n",
       "      <td>0.000000</td>\n",
       "      <td>0.000000</td>\n",
       "      <td>...</td>\n",
       "      <td>0.000000</td>\n",
       "      <td>0.000000</td>\n",
       "      <td>0.000000</td>\n",
       "      <td>0.000000</td>\n",
       "      <td>0.000000</td>\n",
       "      <td>0.000000</td>\n",
       "      <td>0.000000</td>\n",
       "      <td>0.000000</td>\n",
       "      <td>0.000000</td>\n",
       "      <td>0.000000</td>\n",
       "    </tr>\n",
       "    <tr>\n",
       "      <th>3</th>\n",
       "      <td>0.000000</td>\n",
       "      <td>0.000000</td>\n",
       "      <td>0.000000</td>\n",
       "      <td>0.000000</td>\n",
       "      <td>0.000000</td>\n",
       "      <td>0.000000</td>\n",
       "      <td>0.000000</td>\n",
       "      <td>0.000000</td>\n",
       "      <td>0.000000</td>\n",
       "      <td>0.000000</td>\n",
       "      <td>...</td>\n",
       "      <td>0.000000</td>\n",
       "      <td>0.000000</td>\n",
       "      <td>0.000000</td>\n",
       "      <td>0.000000</td>\n",
       "      <td>0.000000</td>\n",
       "      <td>0.000000</td>\n",
       "      <td>0.000000</td>\n",
       "      <td>0.000000</td>\n",
       "      <td>0.000000</td>\n",
       "      <td>0.000000</td>\n",
       "    </tr>\n",
       "    <tr>\n",
       "      <th>4</th>\n",
       "      <td>0.000000</td>\n",
       "      <td>0.000000</td>\n",
       "      <td>0.000000</td>\n",
       "      <td>0.000000</td>\n",
       "      <td>0.000000</td>\n",
       "      <td>0.000000</td>\n",
       "      <td>0.000000</td>\n",
       "      <td>0.000000</td>\n",
       "      <td>0.000000</td>\n",
       "      <td>0.000000</td>\n",
       "      <td>...</td>\n",
       "      <td>0.000000</td>\n",
       "      <td>0.000000</td>\n",
       "      <td>0.000000</td>\n",
       "      <td>0.000000</td>\n",
       "      <td>0.000000</td>\n",
       "      <td>0.000000</td>\n",
       "      <td>0.000000</td>\n",
       "      <td>0.000000</td>\n",
       "      <td>0.000000</td>\n",
       "      <td>0.000000</td>\n",
       "    </tr>\n",
       "  </tbody>\n",
       "</table>\n",
       "<p>5 rows × 10000 columns</p>\n",
       "</div>"
      ],
      "text/plain": [
       "            0              1              2              3              4     \\\n",
       "0  277777.777778  277777.777778  277777.777778  277777.777778  277777.777778   \n",
       "1       0.000000       0.000000       0.000000       0.000000       0.000000   \n",
       "2       0.000000       0.000000       0.000000       0.000000       0.000000   \n",
       "3       0.000000       0.000000       0.000000       0.000000       0.000000   \n",
       "4       0.000000       0.000000       0.000000       0.000000       0.000000   \n",
       "\n",
       "            5              6              7              8              9     \\\n",
       "0  277777.777778  277777.777778  277777.777778  277777.777778  277777.777778   \n",
       "1       0.000000       0.000000       0.000000       0.000000       0.000000   \n",
       "2       0.000000       0.000000       0.000000       0.000000       0.000000   \n",
       "3       0.000000       0.000000       0.000000       0.000000       0.000000   \n",
       "4       0.000000       0.000000       0.000000       0.000000       0.000000   \n",
       "\n",
       "   ...           9990           9991           9992           9993  \\\n",
       "0  ...  277777.777778  277777.777778  277777.777778  277777.777778   \n",
       "1  ...       0.000000       0.000000       0.000000       0.000000   \n",
       "2  ...       0.000000       0.000000       0.000000       0.000000   \n",
       "3  ...       0.000000       0.000000       0.000000       0.000000   \n",
       "4  ...       0.000000       0.000000       0.000000       0.000000   \n",
       "\n",
       "            9994           9995           9996           9997           9998  \\\n",
       "0  277777.777778  277777.777778  277777.777778  277777.777778  277777.777778   \n",
       "1       0.000000       0.000000       0.000000       0.000000       0.000000   \n",
       "2       0.000000       0.000000       0.000000       0.000000       0.000000   \n",
       "3       0.000000       0.000000       0.000000       0.000000       0.000000   \n",
       "4       0.000000       0.000000       0.000000       0.000000       0.000000   \n",
       "\n",
       "            9999  \n",
       "0  277777.777778  \n",
       "1       0.000000  \n",
       "2       0.000000  \n",
       "3       0.000000  \n",
       "4       0.000000  \n",
       "\n",
       "[5 rows x 10000 columns]"
      ]
     },
     "execution_count": 248,
     "metadata": {},
     "output_type": "execute_result"
    }
   ],
   "source": [
    "re_values.head()"
   ]
  },
  {
   "cell_type": "markdown",
   "id": "dd94445f-db40-43a2-9554-dd9a095295e4",
   "metadata": {},
   "source": [
    "I susbstract the downmpayment from the initial property price to estimate how much shall be borrowed from the bank (`loan`).\n",
    "By taking into account the interest rate and the duration of the mortgage, we compute the amount that has to be repaid on the yearly basis to cover the mortgage.\n",
    "[Numpy financial](https://numpy.org/numpy-financial/latest/) has actually a convenient built-in function `pmt` to do that."
   ]
  },
  {
   "cell_type": "code",
   "execution_count": 249,
   "id": "66a0b5c5-f7c7-4ada-bf22-0718a9dc972b",
   "metadata": {},
   "outputs": [],
   "source": [
    "loan = initial_re_value *(1 - DOWN_PAYMENT) #this is what will be borrowed from the bank\n",
    "monthly_interest_rate = (1 + YEARLY_INTEREST_RATE)**(1/12) - 1\n",
    "yearly_loan_repayments = pd.DataFrame(np.zeros(mc_shapes))\n",
    "yearly_loan_repayments.iloc[:LOAN_TERM] = -npf.pmt(monthly_interest_rate, LOAN_TERM * 12, loan) * 12"
   ]
  },
  {
   "cell_type": "markdown",
   "id": "d049bf03-e088-4f7c-9c5a-728f64fad5fe",
   "metadata": {},
   "source": [
    "We also need to know what is the amount of loan that needs to be repaid at a certain point. Indeed, if you sell the property before the end of your loan, you will need to know what you still owe to the bank to be able to estimate what will go into your pocket. This quantity is stored in `yearly_pmt` (this called the *principal* in financial jargon), and you can see that is is gradually decreasing"
   ]
  },
  {
   "cell_type": "code",
   "execution_count": 250,
   "id": "81244066",
   "metadata": {},
   "outputs": [
    {
     "data": {
      "text/plain": [
       "0     222222.222222\n",
       "1     211655.510913\n",
       "2     201244.957899\n",
       "3     190988.255422\n",
       "4     180883.129829\n",
       "5     170927.341068\n",
       "6     161118.682189\n",
       "7     151454.978861\n",
       "8     141934.088882\n",
       "9     132553.901711\n",
       "10    123312.337995\n",
       "11    114207.349113\n",
       "12    105236.916717\n",
       "13     96399.052287\n",
       "14     87691.796691\n",
       "15     79113.219749\n",
       "16     70661.419807\n",
       "17     62334.523311\n",
       "18     54130.684400\n",
       "19     46048.084487\n",
       "20     38084.931864\n",
       "21     30239.461299\n",
       "22     22509.933648\n",
       "23     14894.635471\n",
       "24      7391.878646\n",
       "25        -0.000000\n",
       "26         0.000000\n",
       "27         0.000000\n",
       "28         0.000000\n",
       "29         0.000000\n",
       "dtype: float64"
      ]
     },
     "execution_count": 250,
     "metadata": {},
     "output_type": "execute_result"
    }
   ],
   "source": [
    "monthly_pmt = npf.ppmt(monthly_interest_rate, np.arange(LOAN_TERM *12)+1, LOAN_TERM * 12, loan)\n",
    "yearly_pmt = pd.Series([-np.sum(monthly_pmt[:-ii*12]) if ii <= LOAN_TERM else 0 for ii in range(INVESTMENT_HORIZON)])\n",
    "yearly_pmt.iloc[0] = loan\n",
    "yearly_pmt"
   ]
  },
  {
   "cell_type": "markdown",
   "id": "27ae99d5-4e56-4f78-93f3-266965d5c951",
   "metadata": {},
   "source": [
    "People often think that, after the first down payment, your rental income will fully cover your investment. This is a common misconception. Most of the time, your rental income will cover your mortgage repayment. But there are many side costs such as property maintenance costs, rental income, and property taxes or rental vacancy. These costs are often neglected, and can ultimately force you to pour additional money.\n",
    "Cash flow is a key concept in real estate to assess if at a certain point in time, your investment is sucking capital (negative cash flow) or if it is actually generating money (positive cash flow).\n",
    "The cash flow is simply the difference between the income (basically the rent) and all the expenses.\n",
    "\n",
    "It is important to index both the rent and the cost based on the inflation. It is pretty easy to do in practice since `inflation` is a dataframe, we just need to compound the effect with `cumprod`. "
   ]
  },
  {
   "cell_type": "code",
   "execution_count": 251,
   "id": "6558bb2d",
   "metadata": {},
   "outputs": [],
   "source": [
    "yearly_rent = (RENTAL_YIELD * initial_re_value) * (1 - VACANCY_RATE - RENTAL_INCOME_TAX)\n",
    "yearly_cost = (PROPERTY_TAX + MAINTENANCE_COST + MANAGEMENT_FEE) * initial_re_value\n",
    "yearly_cash_flow = ((yearly_rent - yearly_cost)* (1 + inflation).cumprod()) - yearly_loan_repayments"
   ]
  },
  {
   "cell_type": "markdown",
   "id": "e0e80580-b26d-4ef2-9c33-cb21114a07cf",
   "metadata": {},
   "source": [
    "Below is helper function that will turn useful to visualize the evolution of the different quantities"
   ]
  },
  {
   "cell_type": "code",
   "execution_count": 252,
   "id": "8d6f4218-8d31-4836-b8ba-dfc850e78188",
   "metadata": {},
   "outputs": [],
   "source": [
    "def plot_interval(df: pd.DataFrame, ax: Axes, color: str, \n",
    "                  fills: List[Tuple[str, str]] = [(\"10%\", \"90%\"), (\"25%\", \"75%\")], \n",
    "                  alphas: List[float] = [0.2, 0.5], \n",
    "                  lines: List[str] = [\"50%\", \"mean\"], \n",
    "                  linestyles: List[str] = [\"solid\", \"dashed\"], \n",
    "                  legend_loc: int = 2,\n",
    "                  legend_prefix: str = \"\",\n",
    "                  offset_xticks: bool = True) -> Axes:\n",
    "    \"\"\" helper function to plot results of MC simulations\n",
    "\n",
    "    Parameters\n",
    "    ----------\n",
    "    df : pd.DataFrame\n",
    "    ax : Axes\n",
    "    color : str\n",
    "    fills : List[Tuple[str, str]]\n",
    "    alphas : List[float]\n",
    "    lines : List[str]\n",
    "    linestyles : List[str]\n",
    "    legend_loc : int\n",
    "    legend_prefix : str\n",
    "    offset_xticks : bool\n",
    "\n",
    "    Returns\n",
    "    -------\n",
    "    Axes\n",
    "\n",
    "    \"\"\"\n",
    "\n",
    "    if offset_xticks:\n",
    "        x_ticks = df.index + 1\n",
    "    for ii, fill in enumerate(fills):\n",
    "        label = \"-\".join(fill)\n",
    "        ax.fill_between(x_ticks, df[fill[0]], df[fill[1]], color=color, alpha=alphas[ii], label=legend_prefix + label)\n",
    "    for ii, line in enumerate(lines):\n",
    "        ax.plot(x_ticks, df[line], color=color, linestyle=linestyles[ii], label=legend_prefix + line)\n",
    "    ax.legend(loc=legend_loc)\n",
    "    return ax\n"
   ]
  },
  {
   "cell_type": "code",
   "execution_count": 253,
   "id": "4542c79a-aa8d-4737-95b6-fce4fa02a9c5",
   "metadata": {},
   "outputs": [
    {
     "data": {
      "image/png": "[encoded data removed]",
      "text/plain": [
       "<Figure size 432x288 with 1 Axes>"
      ]
     },
     "metadata": {
      "needs_background": "light"
     },
     "output_type": "display_data"
    }
   ],
   "source": [
    "yearly_cash_flow_summary = yearly_cash_flow.T.describe(percentiles=PLOT_PERCENTILES).T\n",
    "fig, ax1 = plt.subplots()\n",
    "ax1 = plot_interval(yearly_cash_flow_summary, ax1, color=\"grey\")\n",
    "ax1.set_title(\"cash flow\")\n",
    "ax1.set_xlabel(\"year\")\n",
    "ax1.grid()\n"
   ]
  },
  {
   "cell_type": "markdown",
   "id": "57171c49-035b-49cd-945f-323252966574",
   "metadata": {},
   "source": [
    "Lets now look at the appreciation of the property. Scenarios are generated by compounding the yearly returns (normal distributions assumed). \n",
    "I created a small function to simulate the growth of a portfolio\n",
    "\n"
   ]
  },
  {
   "cell_type": "code",
   "execution_count": 254,
   "id": "b02fd86f-7e56-478d-8d93-01d66a096cf3",
   "metadata": {},
   "outputs": [],
   "source": [
    "def compound(amounts: pd.DataFrame, returns: pd.DataFrame) -> pd.DataFrame:\n",
    "    \"\"\" replicate the evolution of a portfolio\n",
    "\n",
    "    Parameters\n",
    "    ----------\n",
    "    amounts : pd.DataFrame\n",
    "    returns : pd.DataFrame\n",
    "\n",
    "    Returns\n",
    "    -------\n",
    "    pd.DataFrame\n",
    "\n",
    "    \"\"\"\n",
    "    compounded_values = returns.copy()\n",
    "    compounded_values.iloc[0, :] = amounts.iloc[0, :]\n",
    "    for ii in range(1, len(amounts)):\n",
    "        compounded_values.iloc[ii, :] = (amounts.iloc[ii] + \n",
    "                                    compounded_values.iloc[ii-1]*returns.iloc[ii-1].add(1))\n",
    "    return compounded_values"
   ]
  },
  {
   "cell_type": "markdown",
   "id": "fd3ae42d-ef5a-4af1-bb79-0528f41fd9c0",
   "metadata": {},
   "source": [
    "In case of RE, the amount that gets compounded is simply the initial value of the property"
   ]
  },
  {
   "cell_type": "code",
   "execution_count": 255,
   "id": "521c5434-d1f2-4a6e-bff8-b330cf6d9932",
   "metadata": {},
   "outputs": [
    {
     "data": {
      "image/png": "[encoded data removed]",
      "text/plain": [
       "<Figure size 432x288 with 1 Axes>"
      ]
     },
     "metadata": {
      "needs_background": "light"
     },
     "output_type": "display_data"
    }
   ],
   "source": [
    "re_returns = pd.DataFrame(normal(RE_APPRECIATION_MEAN, RE_APPRECIATION_STD, mc_shapes))\n",
    "\n",
    "re_values = compound(re_values, re_returns)\n",
    "\n",
    "fig, ax1 = plt.subplots()\n",
    "ax1 = plot_interval(re_values.T.describe(percentiles=PLOT_PERCENTILES).T, ax1, color=\"blue\")\n",
    "ax1.set_ylabel(\"\")\n",
    "ax1.set_xlabel(\"year\")\n",
    "ax1.set_title(\"Property value\")\n",
    "ax1.set_yscale(\"log\")\n",
    "ax1.grid()\n",
    "plt.show(block=False)"
   ]
  },
  {
   "cell_type": "markdown",
   "id": "6e377ccc-92e6-445e-ba6f-0788b0466a4f",
   "metadata": {},
   "source": [
    "To estimate the RE portfolio value (i.e. what we will get if we sell the property at some points) we need to  \n",
    "subtract what remains to be paid to the bank \n",
    "add the accumulated positive cash flow obtained from the rent (if any)"
   ]
  },
  {
   "cell_type": "code",
   "execution_count": 256,
   "id": "e26d5135",
   "metadata": {
    "lines_to_next_cell": 2
   },
   "outputs": [],
   "source": [
    "re_ptf = (re_values\n",
    "              .add(yearly_cash_flow.where(yearly_cash_flow > 0, other=0).cumsum())\n",
    "              .sub(yearly_pmt, axis=0)\n",
    "              )\n",
    "re_summary = re_ptf.T.describe(percentiles=PLOT_PERCENTILES).T\n"
   ]
  },
  {
   "cell_type": "markdown",
   "id": "d651fba7-3c23-43d6-9259-df5a799e4563",
   "metadata": {},
   "source": [
    "It is really important to take into account the negative part of the cash flow to estimate the total cost of this investment. \n",
    "Note that I shift negative part of the cash flow on purpose when computing `re_invested_amounts`. I do this because, when comparing with the ETF, I will need to make sure that the invested amounts are similar. And I consider that the negative cashflow accumulated over year i will be invested on the first day of year i+1"
   ]
  },
  {
   "cell_type": "code",
   "execution_count": 257,
   "id": "2dd020c1-dd61-45e8-b411-9ee42c020d2b",
   "metadata": {},
   "outputs": [],
   "source": [
    "re_invested_amounts = re_invested_amounts - yearly_cash_flow.where(yearly_cash_flow < 0, other=0).shift().fillna(0)\n",
    "total_re_invested_amounts_summary = re_invested_amounts.cumsum().T.describe(percentiles=PLOT_PERCENTILES).T"
   ]
  },
  {
   "cell_type": "markdown",
   "id": "b5285824-9d29-48e2-85d8-528f3b51bbb0",
   "metadata": {},
   "source": [
    "We can now visualize the RE portfolio value and the total cost of the asset side by side"
   ]
  },
  {
   "cell_type": "code",
   "execution_count": 258,
   "id": "01241baf-4993-43d2-b38d-eca110533aeb",
   "metadata": {},
   "outputs": [
    {
     "data": {
      "image/png": "[encoded data removed]",
      "text/plain": [
       "<Figure size 872.64x288 with 2 Axes>"
      ]
     },
     "metadata": {
      "needs_background": "light"
     },
     "output_type": "display_data"
    }
   ],
   "source": [
    "fig, (ax1, ax2) = plt.subplots(1, 2, figsize=SP_FIGSIZE)\n",
    "ax1 = plot_interval(re_summary, ax1, color=\"blue\")\n",
    "ax1.title.set_text(\"RE portfolio value\")\n",
    "ax1.set_xlabel(\"year\")\n",
    "ax1.set_yscale(\"log\")\n",
    "ax1.grid()\n",
    "ax2 = plot_interval(total_re_invested_amounts_summary, ax2, color=\"grey\")\n",
    "ax2.title.set_text(\"total invested capital\")\n",
    "ax2.set_xlabel(\"year\")\n",
    "ax2.grid()\n",
    "plt.show(block=False)"
   ]
  },
  {
   "cell_type": "markdown",
   "id": "88cdc33f-4964-44b7-b412-ac443e4a0cf4",
   "metadata": {},
   "source": [
    "Time to discuss the ETF. Lets first define the simulation parameters"
   ]
  },
  {
   "cell_type": "code",
   "execution_count": 259,
   "id": "b1f2919d",
   "metadata": {},
   "outputs": [],
   "source": [
    "##### ETF\n",
    "ETF_RETURN_MEAN = 0.08\n",
    "ETF_RETURN_STD = 0.16\n",
    "BROKER_BUYING_FEE = 5\n",
    "ETF_YEARLY_COST = 0.25/100"
   ]
  },
  {
   "cell_type": "markdown",
   "id": "52b48c74",
   "metadata": {
    "lines_to_next_cell": 2
   },
   "source": [
    "Estimating the ETF portfolio values is actually much simpler. We just need to \n",
    "1. generate the returns from which we need to subtract the ETF yearly cost\n",
    "2. define the amount of capital used to buy the ETF (ie initial capital on the first year, and the RE negative cashflow after that)\n",
    "3. subtract the broker fee if an order is passed (ie if the invested amounts > 0)\n",
    "4. compound the invested amounts using the returns defined at step 1"
   ]
  },
  {
   "cell_type": "code",
   "execution_count": 260,
   "id": "c938f18e-6bb4-43de-99bc-3a50ee0c9b68",
   "metadata": {},
   "outputs": [],
   "source": [
    "##### ETF\n",
    "etf_returns = pd.DataFrame(normal(ETF_RETURN_MEAN, ETF_RETURN_STD, mc_shapes)) - ETF_YEARLY_COST\n",
    "etf_invested_amounts = pd.DataFrame(np.zeros(mc_shapes))\n",
    "etf_invested_amounts.iloc[0] = INITIAL_CAPITAL\n",
    "etf_invested_amounts = etf_invested_amounts - yearly_cash_flow.where(yearly_cash_flow < 0, other=0).shift().fillna(0)\n",
    "etf_invested_amounts = etf_invested_amounts.where(etf_invested_amounts ==0, other = etf_invested_amounts - BROKER_BUYING_FEE)\n",
    "etf_values = compound(etf_invested_amounts, etf_returns)"
   ]
  },
  {
   "cell_type": "code",
   "execution_count": 261,
   "id": "2bee2481-1542-4707-b3f5-1c95cc4e2118",
   "metadata": {},
   "outputs": [],
   "source": [
    "etf_summary = etf_values.T.describe(percentiles=PLOT_PERCENTILES).T"
   ]
  },
  {
   "cell_type": "code",
   "execution_count": 262,
   "id": "ae5d872f",
   "metadata": {
    "lines_to_next_cell": 2
   },
   "outputs": [
    {
     "data": {
      "image/png": "[encoded data removed]",
      "text/plain": [
       "<Figure size 432x288 with 1 Axes>"
      ]
     },
     "metadata": {
      "needs_background": "light"
     },
     "output_type": "display_data"
    }
   ],
   "source": [
    "etf_summary = etf_values.T.describe(percentiles=PLOT_PERCENTILES).T\n",
    "fig, ax1 = plt.subplots()\n",
    "ax1 = plot_interval(etf_summary, ax1, color=\"red\")\n",
    "ax1.set_ylabel(\"\")\n",
    "ax1.set_xlabel(\"year\")\n",
    "ax1.set_title(\"ETF portflio value\")\n",
    "ax1.set_yscale(\"log\")\n",
    "ax1.grid()\n",
    "plt.show(block=False)"
   ]
  },
  {
   "cell_type": "markdown",
   "id": "0a4bd6c6",
   "metadata": {},
   "source": [
    "We can now compare the evolution of the two portfolios and their total returns at year 30"
   ]
  },
  {
   "cell_type": "code",
   "execution_count": 263,
   "id": "d3de97ec-d322-40f0-8158-d97940248340",
   "metadata": {},
   "outputs": [
    {
     "data": {
      "image/png": "[encoded data removed]",
      "text/plain": [
       "<Figure size 432x288 with 1 Axes>"
      ]
     },
     "metadata": {
      "needs_background": "light"
     },
     "output_type": "display_data"
    }
   ],
   "source": [
    "fig, ax1 = plt.subplots()\n",
    "ax1 = plot_interval(re_summary, ax1, color=\"blue\", fills=[(\"10%\", \"90%\")], alphas=[0.3], lines=[\"50%\"], linestyles=[\"solid\"], legend_prefix=\"RE \")\n",
    "ax1 = plot_interval(etf_summary, ax1, color=\"red\", fills=[(\"10%\", \"90%\")], alphas=[0.3], lines=[\"50%\"], linestyles=[\"solid\"], legend_prefix=\"ETF \")\n",
    "ax1.set_xlabel(\"year\")\n",
    "ax1.set_title(\"RE vs ETF portfolios values\")\n",
    "ax1.set_yscale(\"log\")\n",
    "ax1.grid()\n",
    "plt.show(block=False)"
   ]
  },
  {
   "cell_type": "code",
   "execution_count": 264,
   "id": "6505685d-dd74-45c6-b7cf-4432967b2b1b",
   "metadata": {},
   "outputs": [
    {
     "data": {
      "image/png": "[encoded data removed]",
      "text/plain": [
       "<Figure size 432x288 with 1 Axes>"
      ]
     },
     "metadata": {
      "needs_background": "light"
     },
     "output_type": "display_data"
    }
   ],
   "source": [
    "fig, ax1 = plt.subplots()\n",
    "re_ptf_returns = (re_ptf.iloc[-1]/re_invested_amounts.cumsum().iloc[-1])\n",
    "etf_ptf_returns = (etf_values.iloc[-1]/re_invested_amounts.cumsum().iloc[-1])\n",
    "re_ptf_returns.hist(ax=ax1, bins=100, color=\"b\", density=1, alpha=0.3)\n",
    "etf_ptf_returns.hist(ax=ax1, bins=100, color=\"r\", alpha=0.3, density=1)\n",
    "ax1.set_xlim([0, 25])\n",
    "ylims = ax1.get_ylim()\n",
    "ax1.plot([re_ptf_returns.median()]*2, ylims, color=\"b\", label=\"RE median\")\n",
    "ax1.plot([re_ptf_returns.mean()]*2, ylims, color=\"b\", linestyle=\"--\", label=\"RE mean\")\n",
    "ax1.plot([etf_ptf_returns.median()]*2, ylims, color=\"r\", label=\"ETF median\")\n",
    "ax1.plot([etf_ptf_returns.mean()]*2, ylims, color=\"r\", linestyle=\"--\", label=\"ETF mean\")\n",
    "ax1.title.set_text(\"distribution of the total returns at year 30\")\n",
    "ax1.set_xlabel(\"returns\")\n",
    "ax1.legend()\n",
    "ax1.grid()\n",
    "plt.show(block=False)"
   ]
  }
 ],
 "metadata": {
  "jupytext": {
   "cell_metadata_filter": "-all",
   "main_language": "python",
   "notebook_metadata_filter": "-all"
  },
  "kernelspec": {
   "display_name": "Python 3 (ipykernel)",
   "language": "python",
   "name": "python3"
  },
  "language_info": {
   "codemirror_mode": {
    "name": "ipython",
    "version": 3
   },
   "file_extension": ".py",
   "mimetype": "text/x-python",
   "name": "python",
   "nbconvert_exporter": "python",
   "pygments_lexer": "ipython3",
   "version": "3.9.7"
  }
 },
 "nbformat": 4,
 "nbformat_minor": 5
}
