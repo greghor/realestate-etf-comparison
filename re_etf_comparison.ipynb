{
 "cells": [
  {
   "cell_type": "code",
   "execution_count": 1,
   "id": "40171930",
   "metadata": {},
   "outputs": [],
   "source": [
    "# %\n",
    "import pandas as pd\n",
    "from matplotlib import pyplot as plt\n",
    "import numpy as np\n",
    "from numpy.random import normal\n",
    "import numpy_financial as npf\n",
    "from matplotlib.axes import Axes\n",
    "from typing import List, Tuple\n",
    "# %"
   ]
  },
  {
   "cell_type": "markdown",
   "id": "25b72342",
   "metadata": {},
   "source": [
    "This notebook shows how to use Monte Carlo simulations to compare the performance of a real estate (RE) and ETF portfolio. "
   ]
  },
  {
   "cell_type": "markdown",
   "id": "b3ae6d24-28ef-4aac-90b9-6ceb5dfc85f2",
   "metadata": {},
   "source": [
    "Let's start by defining some generic parameters"
   ]
  },
  {
   "cell_type": "code",
   "execution_count": 2,
   "id": "a2d9870a",
   "metadata": {
    "tags": []
   },
   "outputs": [],
   "source": [
    "##### GENERAL\n",
    "INITIAL_CAPITAL = 100_000\n",
    "INVESTMENT_HORIZON = 30\n",
    "N_SAMPLE = 10_000\n",
    "INFLATION_MEAN = 1.4/100\n",
    "INFLATION_STD = 0.9/100\n",
    "\n",
    "#### charts parameters\n",
    "PLOT_PERCENTILES = [0.1, 0.25, 0.5, 0.75, 0.9]\n",
    "SP_FIGSIZE = [12.12, 4.]"
   ]
  },
  {
   "cell_type": "markdown",
   "id": "51fcb49f-bf9d-41f3-951c-dde405f430c8",
   "metadata": {},
   "source": [
    "We will consider 3 quantities as random variables, namely\n",
    "- the yearly RE appreciation\n",
    "- the yearly ETF returns\n",
    "- the inflation\n",
    "\n",
    "We will use pandas dataframes to store those quantities (and the quantities that derive from them). The index will store the year while the columns will store the scenarios. We will therefore have dataframes of shapes (INVESTMENT_HORIZON, N_SAMPLE)"
   ]
  },
  {
   "cell_type": "code",
   "execution_count": 3,
   "id": "bbbe3a88",
   "metadata": {
    "lines_to_next_cell": 2,
    "tags": []
   },
   "outputs": [],
   "source": [
    "mc_shapes = [INVESTMENT_HORIZON, N_SAMPLE]\n",
    "inflation = pd.DataFrame(normal(INFLATION_MEAN, INFLATION_STD, mc_shapes))\n",
    "inflation.iloc[0, :] = 0 #we dont want to index price on the first year so we manually set the inflation to 0"
   ]
  },
  {
   "cell_type": "markdown",
   "id": "bf909bab-6273-49b9-960d-15f85951ac60",
   "metadata": {},
   "source": [
    "here is how the inflation dataframe looks like"
   ]
  },
  {
   "cell_type": "code",
   "execution_count": 4,
   "id": "190eb5e5-d8fc-4a00-b3f5-eed3cae14f19",
   "metadata": {},
   "outputs": [
    {
     "data": {
      "text/html": [
       "<div>\n",
       "<style scoped>\n",
       "    .dataframe tbody tr th:only-of-type {\n",
       "        vertical-align: middle;\n",
       "    }\n",
       "\n",
       "    .dataframe tbody tr th {\n",
       "        vertical-align: top;\n",
       "    }\n",
       "\n",
       "    .dataframe thead th {\n",
       "        text-align: right;\n",
       "    }\n",
       "</style>\n",
       "<table border=\"1\" class=\"dataframe\">\n",
       "  <thead>\n",
       "    <tr style=\"text-align: right;\">\n",
       "      <th></th>\n",
       "      <th>0</th>\n",
       "      <th>1</th>\n",
       "      <th>2</th>\n",
       "      <th>3</th>\n",
       "      <th>4</th>\n",
       "      <th>5</th>\n",
       "      <th>6</th>\n",
       "      <th>7</th>\n",
       "      <th>8</th>\n",
       "      <th>9</th>\n",
       "      <th>...</th>\n",
       "      <th>9990</th>\n",
       "      <th>9991</th>\n",
       "      <th>9992</th>\n",
       "      <th>9993</th>\n",
       "      <th>9994</th>\n",
       "      <th>9995</th>\n",
       "      <th>9996</th>\n",
       "      <th>9997</th>\n",
       "      <th>9998</th>\n",
       "      <th>9999</th>\n",
       "    </tr>\n",
       "  </thead>\n",
       "  <tbody>\n",
       "    <tr>\n",
       "      <th>0</th>\n",
       "      <td>0.000000</td>\n",
       "      <td>0.000000</td>\n",
       "      <td>0.000000</td>\n",
       "      <td>0.000000</td>\n",
       "      <td>0.000000</td>\n",
       "      <td>0.000000</td>\n",
       "      <td>0.000000</td>\n",
       "      <td>0.000000</td>\n",
       "      <td>0.000000</td>\n",
       "      <td>0.000000</td>\n",
       "      <td>...</td>\n",
       "      <td>0.000000</td>\n",
       "      <td>0.000000</td>\n",
       "      <td>0.000000</td>\n",
       "      <td>0.000000</td>\n",
       "      <td>0.000000</td>\n",
       "      <td>0.000000</td>\n",
       "      <td>0.000000</td>\n",
       "      <td>0.000000</td>\n",
       "      <td>0.000000</td>\n",
       "      <td>0.000000</td>\n",
       "    </tr>\n",
       "    <tr>\n",
       "      <th>1</th>\n",
       "      <td>0.003740</td>\n",
       "      <td>0.021651</td>\n",
       "      <td>0.012399</td>\n",
       "      <td>0.005607</td>\n",
       "      <td>0.018393</td>\n",
       "      <td>0.019891</td>\n",
       "      <td>0.017925</td>\n",
       "      <td>0.027559</td>\n",
       "      <td>0.025412</td>\n",
       "      <td>0.015611</td>\n",
       "      <td>...</td>\n",
       "      <td>-0.007937</td>\n",
       "      <td>0.001350</td>\n",
       "      <td>0.008379</td>\n",
       "      <td>0.010168</td>\n",
       "      <td>0.024706</td>\n",
       "      <td>0.019227</td>\n",
       "      <td>0.006090</td>\n",
       "      <td>0.000222</td>\n",
       "      <td>0.031622</td>\n",
       "      <td>0.015062</td>\n",
       "    </tr>\n",
       "    <tr>\n",
       "      <th>2</th>\n",
       "      <td>0.016469</td>\n",
       "      <td>0.023651</td>\n",
       "      <td>0.014274</td>\n",
       "      <td>0.020234</td>\n",
       "      <td>0.016686</td>\n",
       "      <td>0.030923</td>\n",
       "      <td>0.016571</td>\n",
       "      <td>0.012373</td>\n",
       "      <td>0.008075</td>\n",
       "      <td>0.015805</td>\n",
       "      <td>...</td>\n",
       "      <td>0.026730</td>\n",
       "      <td>0.014937</td>\n",
       "      <td>0.024883</td>\n",
       "      <td>0.006176</td>\n",
       "      <td>0.030511</td>\n",
       "      <td>0.010894</td>\n",
       "      <td>0.032240</td>\n",
       "      <td>0.007389</td>\n",
       "      <td>0.034166</td>\n",
       "      <td>0.022428</td>\n",
       "    </tr>\n",
       "    <tr>\n",
       "      <th>3</th>\n",
       "      <td>-0.000062</td>\n",
       "      <td>0.014751</td>\n",
       "      <td>0.013596</td>\n",
       "      <td>0.016938</td>\n",
       "      <td>0.022773</td>\n",
       "      <td>0.009854</td>\n",
       "      <td>-0.004113</td>\n",
       "      <td>0.024750</td>\n",
       "      <td>0.009622</td>\n",
       "      <td>0.013422</td>\n",
       "      <td>...</td>\n",
       "      <td>0.019087</td>\n",
       "      <td>0.005197</td>\n",
       "      <td>0.017509</td>\n",
       "      <td>0.021047</td>\n",
       "      <td>0.004395</td>\n",
       "      <td>0.016623</td>\n",
       "      <td>0.008846</td>\n",
       "      <td>0.011360</td>\n",
       "      <td>0.014993</td>\n",
       "      <td>0.000963</td>\n",
       "    </tr>\n",
       "    <tr>\n",
       "      <th>4</th>\n",
       "      <td>0.026618</td>\n",
       "      <td>0.019466</td>\n",
       "      <td>0.002992</td>\n",
       "      <td>0.018188</td>\n",
       "      <td>0.015245</td>\n",
       "      <td>0.004163</td>\n",
       "      <td>0.001795</td>\n",
       "      <td>0.014257</td>\n",
       "      <td>0.012223</td>\n",
       "      <td>0.008077</td>\n",
       "      <td>...</td>\n",
       "      <td>0.009997</td>\n",
       "      <td>0.010127</td>\n",
       "      <td>0.018626</td>\n",
       "      <td>0.003423</td>\n",
       "      <td>0.016947</td>\n",
       "      <td>0.012079</td>\n",
       "      <td>0.009519</td>\n",
       "      <td>0.011071</td>\n",
       "      <td>0.016220</td>\n",
       "      <td>0.007320</td>\n",
       "    </tr>\n",
       "  </tbody>\n",
       "</table>\n",
       "<p>5 rows × 10000 columns</p>\n",
       "</div>"
      ],
      "text/plain": [
       "       0         1         2         3         4         5         6     \\\n",
       "0  0.000000  0.000000  0.000000  0.000000  0.000000  0.000000  0.000000   \n",
       "1  0.003740  0.021651  0.012399  0.005607  0.018393  0.019891  0.017925   \n",
       "2  0.016469  0.023651  0.014274  0.020234  0.016686  0.030923  0.016571   \n",
       "3 -0.000062  0.014751  0.013596  0.016938  0.022773  0.009854 -0.004113   \n",
       "4  0.026618  0.019466  0.002992  0.018188  0.015245  0.004163  0.001795   \n",
       "\n",
       "       7         8         9     ...      9990      9991      9992      9993  \\\n",
       "0  0.000000  0.000000  0.000000  ...  0.000000  0.000000  0.000000  0.000000   \n",
       "1  0.027559  0.025412  0.015611  ... -0.007937  0.001350  0.008379  0.010168   \n",
       "2  0.012373  0.008075  0.015805  ...  0.026730  0.014937  0.024883  0.006176   \n",
       "3  0.024750  0.009622  0.013422  ...  0.019087  0.005197  0.017509  0.021047   \n",
       "4  0.014257  0.012223  0.008077  ...  0.009997  0.010127  0.018626  0.003423   \n",
       "\n",
       "       9994      9995      9996      9997      9998      9999  \n",
       "0  0.000000  0.000000  0.000000  0.000000  0.000000  0.000000  \n",
       "1  0.024706  0.019227  0.006090  0.000222  0.031622  0.015062  \n",
       "2  0.030511  0.010894  0.032240  0.007389  0.034166  0.022428  \n",
       "3  0.004395  0.016623  0.008846  0.011360  0.014993  0.000963  \n",
       "4  0.016947  0.012079  0.009519  0.011071  0.016220  0.007320  \n",
       "\n",
       "[5 rows x 10000 columns]"
      ]
     },
     "execution_count": 4,
     "metadata": {},
     "output_type": "execute_result"
    }
   ],
   "source": [
    "inflation.head()"
   ]
  },
  {
   "cell_type": "markdown",
   "id": "b9a4d7c4-9847-47f9-8a6b-64673ec10753",
   "metadata": {},
   "source": [
    "Let's now define a bunch of parameters related to RE.\n",
    "\n",
    "**Important Note:** the time unit used in this analysis is the year. Since mortgages are generally repaid on a monthly basis, we will need to do some units conversions from months to years. So dont be surprised if you see many `*12`or things like that"
   ]
  },
  {
   "cell_type": "code",
   "execution_count": 5,
   "id": "f4ae9361",
   "metadata": {},
   "outputs": [],
   "source": [
    "##### REAL ESTATE \n",
    "DOWN_PAYMENT = 20/100 \n",
    "CLOSING_COST = 10/100\n",
    "YEARLY_INTEREST_RATE = 1.5/100\n",
    "LOAN_TERM = 25\n",
    "RE_APPRECIATION_MEAN = 3.5/100\n",
    "RE_APPRECIATION_STD = 8/100\n",
    "RENTAL_YIELD = 5/100\n",
    "VACANCY_RATE = 5/100\n",
    "PROPERTY_TAX = 0.5/100\n",
    "RENTAL_INCOME_TAX = 10/100\n",
    "MAINTENANCE_COST = 1/100\n",
    "MANAGEMENT_FEE = 0.1/100"
   ]
  },
  {
   "cell_type": "markdown",
   "id": "ebdf4f32-627c-46ed-8dc4-9163874c92c3",
   "metadata": {},
   "source": [
    "we need to initialize a few variables (most of them will be dataframes of size [INVESTMENT_HORIZON, N_SAMPLE]). "
   ]
  },
  {
   "cell_type": "code",
   "execution_count": 6,
   "id": "bc4c9dae-8df0-4460-a5d2-2a96de2d9fb4",
   "metadata": {},
   "outputs": [],
   "source": [
    "def initialize_values(initial_value: float, shapes: List) -> pd.DataFrame:\n",
    "    \"\"\" create df of shape shapes, filled with zeros except for the first line\n",
    "\n",
    "    Parameters\n",
    "    ----------\n",
    "    initial_value : float\n",
    "    shapes : List\n",
    "\n",
    "    Returns\n",
    "    -------\n",
    "    pd.DataFrame\n",
    "\n",
    "    \"\"\"\n",
    "    df = pd.DataFrame(np.zeros(shapes))\n",
    "    df.iloc[0] = initial_value\n",
    "    return df"
   ]
  },
  {
   "cell_type": "code",
   "execution_count": 7,
   "id": "559970bc",
   "metadata": {},
   "outputs": [],
   "source": [
    "##### REAL ESTATE \n",
    "initial_re_value = INITIAL_CAPITAL / (DOWN_PAYMENT + CLOSING_COST)\n",
    "re_values = initialize_values(initial_re_value, mc_shapes)\n",
    "re_invested_amounts = initialize_values(INITIAL_CAPITAL, mc_shapes)"
   ]
  },
  {
   "cell_type": "markdown",
   "id": "da30743d-f79f-4c20-970b-83af3c0288c3",
   "metadata": {},
   "source": [
    "for example the property value `re_values` at the first year is simply equal to the initial value of the home. We leave the remaining values to 0, they will be updated down the path based on the Monte Carlo simulation\n"
   ]
  },
  {
   "cell_type": "code",
   "execution_count": 8,
   "id": "4afda5e6-a63d-402e-bc58-081060cf88b3",
   "metadata": {},
   "outputs": [
    {
     "data": {
      "text/html": [
       "<div>\n",
       "<style scoped>\n",
       "    .dataframe tbody tr th:only-of-type {\n",
       "        vertical-align: middle;\n",
       "    }\n",
       "\n",
       "    .dataframe tbody tr th {\n",
       "        vertical-align: top;\n",
       "    }\n",
       "\n",
       "    .dataframe thead th {\n",
       "        text-align: right;\n",
       "    }\n",
       "</style>\n",
       "<table border=\"1\" class=\"dataframe\">\n",
       "  <thead>\n",
       "    <tr style=\"text-align: right;\">\n",
       "      <th></th>\n",
       "      <th>0</th>\n",
       "      <th>1</th>\n",
       "      <th>2</th>\n",
       "      <th>3</th>\n",
       "      <th>4</th>\n",
       "      <th>5</th>\n",
       "      <th>6</th>\n",
       "      <th>7</th>\n",
       "      <th>8</th>\n",
       "      <th>9</th>\n",
       "      <th>...</th>\n",
       "      <th>9990</th>\n",
       "      <th>9991</th>\n",
       "      <th>9992</th>\n",
       "      <th>9993</th>\n",
       "      <th>9994</th>\n",
       "      <th>9995</th>\n",
       "      <th>9996</th>\n",
       "      <th>9997</th>\n",
       "      <th>9998</th>\n",
       "      <th>9999</th>\n",
       "    </tr>\n",
       "  </thead>\n",
       "  <tbody>\n",
       "    <tr>\n",
       "      <th>0</th>\n",
       "      <td>333333.333333</td>\n",
       "      <td>333333.333333</td>\n",
       "      <td>333333.333333</td>\n",
       "      <td>333333.333333</td>\n",
       "      <td>333333.333333</td>\n",
       "      <td>333333.333333</td>\n",
       "      <td>333333.333333</td>\n",
       "      <td>333333.333333</td>\n",
       "      <td>333333.333333</td>\n",
       "      <td>333333.333333</td>\n",
       "      <td>...</td>\n",
       "      <td>333333.333333</td>\n",
       "      <td>333333.333333</td>\n",
       "      <td>333333.333333</td>\n",
       "      <td>333333.333333</td>\n",
       "      <td>333333.333333</td>\n",
       "      <td>333333.333333</td>\n",
       "      <td>333333.333333</td>\n",
       "      <td>333333.333333</td>\n",
       "      <td>333333.333333</td>\n",
       "      <td>333333.333333</td>\n",
       "    </tr>\n",
       "    <tr>\n",
       "      <th>1</th>\n",
       "      <td>0.000000</td>\n",
       "      <td>0.000000</td>\n",
       "      <td>0.000000</td>\n",
       "      <td>0.000000</td>\n",
       "      <td>0.000000</td>\n",
       "      <td>0.000000</td>\n",
       "      <td>0.000000</td>\n",
       "      <td>0.000000</td>\n",
       "      <td>0.000000</td>\n",
       "      <td>0.000000</td>\n",
       "      <td>...</td>\n",
       "      <td>0.000000</td>\n",
       "      <td>0.000000</td>\n",
       "      <td>0.000000</td>\n",
       "      <td>0.000000</td>\n",
       "      <td>0.000000</td>\n",
       "      <td>0.000000</td>\n",
       "      <td>0.000000</td>\n",
       "      <td>0.000000</td>\n",
       "      <td>0.000000</td>\n",
       "      <td>0.000000</td>\n",
       "    </tr>\n",
       "    <tr>\n",
       "      <th>2</th>\n",
       "      <td>0.000000</td>\n",
       "      <td>0.000000</td>\n",
       "      <td>0.000000</td>\n",
       "      <td>0.000000</td>\n",
       "      <td>0.000000</td>\n",
       "      <td>0.000000</td>\n",
       "      <td>0.000000</td>\n",
       "      <td>0.000000</td>\n",
       "      <td>0.000000</td>\n",
       "      <td>0.000000</td>\n",
       "      <td>...</td>\n",
       "      <td>0.000000</td>\n",
       "      <td>0.000000</td>\n",
       "      <td>0.000000</td>\n",
       "      <td>0.000000</td>\n",
       "      <td>0.000000</td>\n",
       "      <td>0.000000</td>\n",
       "      <td>0.000000</td>\n",
       "      <td>0.000000</td>\n",
       "      <td>0.000000</td>\n",
       "      <td>0.000000</td>\n",
       "    </tr>\n",
       "    <tr>\n",
       "      <th>3</th>\n",
       "      <td>0.000000</td>\n",
       "      <td>0.000000</td>\n",
       "      <td>0.000000</td>\n",
       "      <td>0.000000</td>\n",
       "      <td>0.000000</td>\n",
       "      <td>0.000000</td>\n",
       "      <td>0.000000</td>\n",
       "      <td>0.000000</td>\n",
       "      <td>0.000000</td>\n",
       "      <td>0.000000</td>\n",
       "      <td>...</td>\n",
       "      <td>0.000000</td>\n",
       "      <td>0.000000</td>\n",
       "      <td>0.000000</td>\n",
       "      <td>0.000000</td>\n",
       "      <td>0.000000</td>\n",
       "      <td>0.000000</td>\n",
       "      <td>0.000000</td>\n",
       "      <td>0.000000</td>\n",
       "      <td>0.000000</td>\n",
       "      <td>0.000000</td>\n",
       "    </tr>\n",
       "    <tr>\n",
       "      <th>4</th>\n",
       "      <td>0.000000</td>\n",
       "      <td>0.000000</td>\n",
       "      <td>0.000000</td>\n",
       "      <td>0.000000</td>\n",
       "      <td>0.000000</td>\n",
       "      <td>0.000000</td>\n",
       "      <td>0.000000</td>\n",
       "      <td>0.000000</td>\n",
       "      <td>0.000000</td>\n",
       "      <td>0.000000</td>\n",
       "      <td>...</td>\n",
       "      <td>0.000000</td>\n",
       "      <td>0.000000</td>\n",
       "      <td>0.000000</td>\n",
       "      <td>0.000000</td>\n",
       "      <td>0.000000</td>\n",
       "      <td>0.000000</td>\n",
       "      <td>0.000000</td>\n",
       "      <td>0.000000</td>\n",
       "      <td>0.000000</td>\n",
       "      <td>0.000000</td>\n",
       "    </tr>\n",
       "  </tbody>\n",
       "</table>\n",
       "<p>5 rows × 10000 columns</p>\n",
       "</div>"
      ],
      "text/plain": [
       "            0              1              2              3              4     \\\n",
       "0  333333.333333  333333.333333  333333.333333  333333.333333  333333.333333   \n",
       "1       0.000000       0.000000       0.000000       0.000000       0.000000   \n",
       "2       0.000000       0.000000       0.000000       0.000000       0.000000   \n",
       "3       0.000000       0.000000       0.000000       0.000000       0.000000   \n",
       "4       0.000000       0.000000       0.000000       0.000000       0.000000   \n",
       "\n",
       "            5              6              7              8              9     \\\n",
       "0  333333.333333  333333.333333  333333.333333  333333.333333  333333.333333   \n",
       "1       0.000000       0.000000       0.000000       0.000000       0.000000   \n",
       "2       0.000000       0.000000       0.000000       0.000000       0.000000   \n",
       "3       0.000000       0.000000       0.000000       0.000000       0.000000   \n",
       "4       0.000000       0.000000       0.000000       0.000000       0.000000   \n",
       "\n",
       "   ...           9990           9991           9992           9993  \\\n",
       "0  ...  333333.333333  333333.333333  333333.333333  333333.333333   \n",
       "1  ...       0.000000       0.000000       0.000000       0.000000   \n",
       "2  ...       0.000000       0.000000       0.000000       0.000000   \n",
       "3  ...       0.000000       0.000000       0.000000       0.000000   \n",
       "4  ...       0.000000       0.000000       0.000000       0.000000   \n",
       "\n",
       "            9994           9995           9996           9997           9998  \\\n",
       "0  333333.333333  333333.333333  333333.333333  333333.333333  333333.333333   \n",
       "1       0.000000       0.000000       0.000000       0.000000       0.000000   \n",
       "2       0.000000       0.000000       0.000000       0.000000       0.000000   \n",
       "3       0.000000       0.000000       0.000000       0.000000       0.000000   \n",
       "4       0.000000       0.000000       0.000000       0.000000       0.000000   \n",
       "\n",
       "            9999  \n",
       "0  333333.333333  \n",
       "1       0.000000  \n",
       "2       0.000000  \n",
       "3       0.000000  \n",
       "4       0.000000  \n",
       "\n",
       "[5 rows x 10000 columns]"
      ]
     },
     "execution_count": 8,
     "metadata": {},
     "output_type": "execute_result"
    }
   ],
   "source": [
    "re_values.head()"
   ]
  },
  {
   "cell_type": "markdown",
   "id": "dd94445f-db40-43a2-9554-dd9a095295e4",
   "metadata": {},
   "source": [
    "I susbstract the downmpayment from the initial property price to estimate how much shall be borrowed from the bank (`loan`).\n",
    "By taking into account the interest rate and the duration of the mortgage, we compute the amount that has to be repaid on the yearly basis to cover the mortgage.\n",
    "[Numpy financial](https://numpy.org/numpy-financial/latest/) has actually a convenient built-in function `pmt` to do that."
   ]
  },
  {
   "cell_type": "code",
   "execution_count": 9,
   "id": "66a0b5c5-f7c7-4ada-bf22-0718a9dc972b",
   "metadata": {},
   "outputs": [],
   "source": [
    "loan = initial_re_value *(1 - DOWN_PAYMENT) #this is what will be borrowed from the bank\n",
    "monthly_interest_rate = (1 + YEARLY_INTEREST_RATE)**(1/12) - 1\n",
    "yearly_loan_repayments = pd.DataFrame(np.zeros(mc_shapes))\n",
    "yearly_loan_repayments.iloc[:LOAN_TERM] = -npf.pmt(monthly_interest_rate, LOAN_TERM * 12, loan) * 12"
   ]
  },
  {
   "cell_type": "markdown",
   "id": "d049bf03-e088-4f7c-9c5a-728f64fad5fe",
   "metadata": {},
   "source": [
    "We also need to know what is the amount of loan that needs to be repaid at a certain point. Indeed, if you sell the property before the end of your loan, you will need to know what you still owe to the bank to be able to estimate what will go into your pocket. This quantity is stored in `yearly_pmt` (this called the *principal* in financial jargon), and you can see that is is gradually decreasing"
   ]
  },
  {
   "cell_type": "code",
   "execution_count": 10,
   "id": "81244066",
   "metadata": {},
   "outputs": [
    {
     "data": {
      "text/plain": [
       "0     266666.666667\n",
       "1     253986.613096\n",
       "2     241493.949479\n",
       "3     229185.906507\n",
       "4     217059.755795\n",
       "5     205112.809281\n",
       "6     193342.418627\n",
       "7     181745.974633\n",
       "8     170320.906658\n",
       "9     159064.682053\n",
       "10    147974.805594\n",
       "11    137048.818936\n",
       "12    126284.300060\n",
       "13    115678.862744\n",
       "14    105230.156029\n",
       "15     94935.863699\n",
       "16     84793.703768\n",
       "17     74801.427974\n",
       "18     64956.821280\n",
       "19     55257.701385\n",
       "20     45701.918236\n",
       "21     36287.353558\n",
       "22     27011.920378\n",
       "23     17873.562565\n",
       "24      8870.254375\n",
       "25        -0.000000\n",
       "26         0.000000\n",
       "27         0.000000\n",
       "28         0.000000\n",
       "29         0.000000\n",
       "dtype: float64"
      ]
     },
     "execution_count": 10,
     "metadata": {},
     "output_type": "execute_result"
    }
   ],
   "source": [
    "monthly_pmt = npf.ppmt(monthly_interest_rate, np.arange(LOAN_TERM *12)+1, LOAN_TERM * 12, loan)\n",
    "yearly_pmt = pd.Series([-np.sum(monthly_pmt[:-ii*12]) if ii <= LOAN_TERM else 0 for ii in range(INVESTMENT_HORIZON)])\n",
    "yearly_pmt.iloc[0] = loan\n",
    "yearly_pmt"
   ]
  },
  {
   "cell_type": "markdown",
   "id": "27ae99d5-4e56-4f78-93f3-266965d5c951",
   "metadata": {},
   "source": [
    "People often think that, after the first down payment, your rental income will fully cover your investment. This is a common misconception. Most of the time, your rental income will cover your mortgage repayment. But there are many side costs such as property maintenance costs, rental income, and property taxes or rental vacancy. These costs are often neglected, and can ultimately force you to pour additional money.\n",
    "Cash flow is a key concept in real estate to assess if at a certain point in time, your investment is sucking capital (negative cash flow) or if it is actually generating money (positive cash flow).\n",
    "The cash flow is simply the difference between the income (basically the rent) and all the expenses.\n",
    "\n",
    "It is important to index both the rent and the cost based on the inflation. It is pretty easy to do in practice since `inflation` is a dataframe, we just need to compound the effect with `cumprod`. "
   ]
  },
  {
   "cell_type": "code",
   "execution_count": 11,
   "id": "6558bb2d",
   "metadata": {},
   "outputs": [],
   "source": [
    "yearly_rent = (RENTAL_YIELD * initial_re_value) * (1 - VACANCY_RATE - RENTAL_INCOME_TAX)\n",
    "yearly_cost = (PROPERTY_TAX + MAINTENANCE_COST + MANAGEMENT_FEE) * initial_re_value\n",
    "yearly_cash_flow = ((yearly_rent - yearly_cost)* (1 + inflation).cumprod()) - yearly_loan_repayments"
   ]
  },
  {
   "cell_type": "markdown",
   "id": "e0e80580-b26d-4ef2-9c33-cb21114a07cf",
   "metadata": {},
   "source": [
    "Below is helper function that will turn useful to visualize the evolution of the different quantities"
   ]
  },
  {
   "cell_type": "code",
   "execution_count": 12,
   "id": "8d6f4218-8d31-4836-b8ba-dfc850e78188",
   "metadata": {},
   "outputs": [],
   "source": [
    "def plot_interval(df: pd.DataFrame, ax: Axes, color: str, \n",
    "                  fills: List[Tuple[str, str]] = [(\"10%\", \"90%\"), (\"25%\", \"75%\")], \n",
    "                  alphas: List[float] = [0.2, 0.5], \n",
    "                  lines: List[str] = [\"50%\", \"mean\"], \n",
    "                  linestyles: List[str] = [\"solid\", \"dashed\"], \n",
    "                  legend_loc: int = 2,\n",
    "                  legend_prefix: str = \"\",\n",
    "                  offset_xticks: bool = True) -> Axes:\n",
    "    \"\"\" helper function to plot results of MC simulations\n",
    "\n",
    "    Parameters\n",
    "    ----------\n",
    "    df : pd.DataFrame\n",
    "    ax : Axes\n",
    "    color : str\n",
    "    fills : List[Tuple[str, str]]\n",
    "    alphas : List[float]\n",
    "    lines : List[str]\n",
    "    linestyles : List[str]\n",
    "    legend_loc : int\n",
    "    legend_prefix : str\n",
    "    offset_xticks : bool\n",
    "\n",
    "    Returns\n",
    "    -------\n",
    "    Axes\n",
    "\n",
    "    \"\"\"\n",
    "\n",
    "    if offset_xticks:\n",
    "        x_ticks = df.index + 1\n",
    "    for ii, fill in enumerate(fills):\n",
    "        label = \"-\".join(fill)\n",
    "        ax.fill_between(x_ticks, df[fill[0]], df[fill[1]], color=color, alpha=alphas[ii], label=legend_prefix + label)\n",
    "    for ii, line in enumerate(lines):\n",
    "        ax.plot(x_ticks, df[line], color=color, linestyle=linestyles[ii], label=legend_prefix + line)\n",
    "    ax.legend(loc=legend_loc)\n",
    "    return ax\n"
   ]
  },
  {
   "cell_type": "code",
   "execution_count": 13,
   "id": "4542c79a-aa8d-4737-95b6-fce4fa02a9c5",
   "metadata": {},
   "outputs": [
    {
     "data": {
      "image/png": "[encoded data removed]",
      "text/plain": [
       "<Figure size 432x288 with 1 Axes>"
      ]
     },
     "metadata": {
      "needs_background": "light"
     },
     "output_type": "display_data"
    }
   ],
   "source": [
    "yearly_cash_flow_summary = yearly_cash_flow.T.describe(percentiles=PLOT_PERCENTILES).T\n",
    "fig, ax1 = plt.subplots()\n",
    "ax1 = plot_interval(yearly_cash_flow_summary, ax1, color=\"grey\")\n",
    "ax1.set_title(\"cash flow\")\n",
    "ax1.set_xlabel(\"year\")\n",
    "ax1.grid()\n"
   ]
  },
  {
   "cell_type": "markdown",
   "id": "57171c49-035b-49cd-945f-323252966574",
   "metadata": {},
   "source": [
    "Lets now look at the appreciation of the property. Scenarios are generated by compounding the yearly returns (normal distributions assumed). \n",
    "I created a small function to simulate the growth of a portfolio\n",
    "\n"
   ]
  },
  {
   "cell_type": "code",
   "execution_count": 14,
   "id": "b02fd86f-7e56-478d-8d93-01d66a096cf3",
   "metadata": {},
   "outputs": [],
   "source": [
    "def compound(amounts: pd.DataFrame, returns: pd.DataFrame) -> pd.DataFrame:\n",
    "    \"\"\" replicate the evolution of a portfolio\n",
    "\n",
    "    Parameters\n",
    "    ----------\n",
    "    amounts : pd.DataFrame\n",
    "    returns : pd.DataFrame\n",
    "\n",
    "    Returns\n",
    "    -------\n",
    "    pd.DataFrame\n",
    "\n",
    "    \"\"\"\n",
    "    compounded_values = returns.copy()\n",
    "    compounded_values.iloc[0, :] = amounts.iloc[0, :]\n",
    "    for ii in range(1, len(amounts)):\n",
    "        compounded_values.iloc[ii, :] = (amounts.iloc[ii] + \n",
    "                                    compounded_values.iloc[ii-1]*returns.iloc[ii-1].add(1))\n",
    "    return compounded_values"
   ]
  },
  {
   "cell_type": "markdown",
   "id": "fd3ae42d-ef5a-4af1-bb79-0528f41fd9c0",
   "metadata": {},
   "source": [
    "In case of RE, the amount that gets compounded is simply the initial value of the property"
   ]
  },
  {
   "cell_type": "code",
   "execution_count": 15,
   "id": "521c5434-d1f2-4a6e-bff8-b330cf6d9932",
   "metadata": {},
   "outputs": [
    {
     "data": {
      "image/png": "[encoded data removed]",
      "text/plain": [
       "<Figure size 432x288 with 1 Axes>"
      ]
     },
     "metadata": {
      "needs_background": "light"
     },
     "output_type": "display_data"
    }
   ],
   "source": [
    "re_returns = pd.DataFrame(normal(RE_APPRECIATION_MEAN, RE_APPRECIATION_STD, mc_shapes))\n",
    "\n",
    "re_values = compound(re_values, re_returns)\n",
    "\n",
    "fig, ax1 = plt.subplots()\n",
    "ax1 = plot_interval(re_values.T.describe(percentiles=PLOT_PERCENTILES).T, ax1, color=\"blue\")\n",
    "ax1.set_ylabel(\"\")\n",
    "ax1.set_xlabel(\"year\")\n",
    "ax1.set_title(\"Property value\")\n",
    "ax1.set_yscale(\"log\")\n",
    "ax1.grid()\n",
    "plt.show(block=False)"
   ]
  },
  {
   "cell_type": "markdown",
   "id": "6e377ccc-92e6-445e-ba6f-0788b0466a4f",
   "metadata": {},
   "source": [
    "To estimate the RE portfolio value (i.e. what we will get if we sell the property at some points) we need to  \n",
    "subtract what remains to be paid to the bank \n",
    "add the accumulated positive cash flow obtained from the rent (if any)"
   ]
  },
  {
   "cell_type": "code",
   "execution_count": 16,
   "id": "e26d5135",
   "metadata": {
    "lines_to_next_cell": 2
   },
   "outputs": [],
   "source": [
    "re_ptf = (re_values\n",
    "              .add(yearly_cash_flow.where(yearly_cash_flow > 0, other=0).cumsum())\n",
    "              .sub(yearly_pmt, axis=0)\n",
    "              )\n",
    "re_summary = re_ptf.T.describe(percentiles=PLOT_PERCENTILES).T\n"
   ]
  },
  {
   "cell_type": "markdown",
   "id": "d651fba7-3c23-43d6-9259-df5a799e4563",
   "metadata": {},
   "source": [
    "It is really important to take into account the negative part of the cash flow to estimate the total cost of this investment. \n",
    "Note that I shift negative part of the cash flow on purpose when computing `re_invested_amounts`. I do this because, when comparing with the ETF, I will need to make sure that the invested amounts are similar. And I consider that the negative cashflow accumulated over year i will be invested on the first day of year i+1"
   ]
  },
  {
   "cell_type": "code",
   "execution_count": 17,
   "id": "2dd020c1-dd61-45e8-b411-9ee42c020d2b",
   "metadata": {},
   "outputs": [],
   "source": [
    "re_invested_amounts = re_invested_amounts - yearly_cash_flow.where(yearly_cash_flow < 0, other=0).shift().fillna(0)\n",
    "total_re_invested_amounts_summary = re_invested_amounts.cumsum().T.describe(percentiles=PLOT_PERCENTILES).T"
   ]
  },
  {
   "cell_type": "markdown",
   "id": "b5285824-9d29-48e2-85d8-528f3b51bbb0",
   "metadata": {},
   "source": [
    "We can now visualize the RE portfolio value and the total cost of the asset side by side"
   ]
  },
  {
   "cell_type": "code",
   "execution_count": 18,
   "id": "01241baf-4993-43d2-b38d-eca110533aeb",
   "metadata": {},
   "outputs": [
    {
     "data": {
      "image/png": "[encoded data removed]",
      "text/plain": [
       "<Figure size 872.64x288 with 2 Axes>"
      ]
     },
     "metadata": {
      "needs_background": "light"
     },
     "output_type": "display_data"
    }
   ],
   "source": [
    "fig, (ax1, ax2) = plt.subplots(1, 2, figsize=SP_FIGSIZE)\n",
    "ax1 = plot_interval(re_summary, ax1, color=\"blue\")\n",
    "ax1.title.set_text(\"RE portfolio value\")\n",
    "ax1.set_xlabel(\"year\")\n",
    "ax1.set_yscale(\"log\")\n",
    "ax1.grid()\n",
    "ax2 = plot_interval(total_re_invested_amounts_summary, ax2, color=\"grey\")\n",
    "ax2.title.set_text(\"total invested capital\")\n",
    "ax2.set_xlabel(\"year\")\n",
    "ax2.grid()\n",
    "plt.show(block=False)"
   ]
  },
  {
   "cell_type": "markdown",
   "id": "88cdc33f-4964-44b7-b412-ac443e4a0cf4",
   "metadata": {},
   "source": [
    "Time to discuss the ETF. Lets first define the simulation parameters"
   ]
  },
  {
   "cell_type": "code",
   "execution_count": 19,
   "id": "b1f2919d",
   "metadata": {},
   "outputs": [],
   "source": [
    "##### ETF\n",
    "ETF_RETURN_MEAN = 0.10\n",
    "ETF_RETURN_STD = 0.16\n",
    "BROKER_BUYING_FEE = 5\n",
    "ETF_YEARLY_COST = 0.25/100"
   ]
  },
  {
   "cell_type": "markdown",
   "id": "52b48c74",
   "metadata": {
    "lines_to_next_cell": 2
   },
   "source": [
    "Estimating the ETF portfolio values is actually much simpler. We just need to \n",
    "1. generate the returns from which we need to subtract the ETF yearly cost\n",
    "2. define the amount of capital used to buy the ETF (ie initial capital on the first year, and the RE negative cashflow after that)\n",
    "3. subtract the broker fee if an order is passed (ie if the invested amounts > 0)\n",
    "4. compound the invested amounts using the returns defined at step 1"
   ]
  },
  {
   "cell_type": "code",
   "execution_count": 20,
   "id": "c938f18e-6bb4-43de-99bc-3a50ee0c9b68",
   "metadata": {},
   "outputs": [],
   "source": [
    "##### ETF\n",
    "etf_returns = pd.DataFrame(normal(ETF_RETURN_MEAN, ETF_RETURN_STD, mc_shapes)) - ETF_YEARLY_COST\n",
    "etf_invested_amounts = pd.DataFrame(np.zeros(mc_shapes))\n",
    "etf_invested_amounts.iloc[0] = INITIAL_CAPITAL\n",
    "etf_invested_amounts = etf_invested_amounts - yearly_cash_flow.where(yearly_cash_flow < 0, other=0).shift().fillna(0)\n",
    "etf_invested_amounts = etf_invested_amounts.where(etf_invested_amounts ==0, other = etf_invested_amounts - BROKER_BUYING_FEE)\n",
    "etf_values = compound(etf_invested_amounts, etf_returns)"
   ]
  },
  {
   "cell_type": "code",
   "execution_count": 21,
   "id": "2bee2481-1542-4707-b3f5-1c95cc4e2118",
   "metadata": {},
   "outputs": [],
   "source": [
    "etf_summary = etf_values.T.describe(percentiles=PLOT_PERCENTILES).T"
   ]
  },
  {
   "cell_type": "code",
   "execution_count": 22,
   "id": "ae5d872f",
   "metadata": {
    "lines_to_next_cell": 2
   },
   "outputs": [
    {
     "data": {
      "image/png": "[encoded data removed]",
      "text/plain": [
       "<Figure size 432x288 with 1 Axes>"
      ]
     },
     "metadata": {
      "needs_background": "light"
     },
     "output_type": "display_data"
    }
   ],
   "source": [
    "etf_summary = etf_values.T.describe(percentiles=PLOT_PERCENTILES).T\n",
    "fig, ax1 = plt.subplots()\n",
    "ax1 = plot_interval(etf_summary, ax1, color=\"red\")\n",
    "ax1.set_ylabel(\"\")\n",
    "ax1.set_xlabel(\"year\")\n",
    "ax1.set_title(\"ETF portflio value\")\n",
    "ax1.set_yscale(\"log\")\n",
    "ax1.grid()\n",
    "plt.show(block=False)"
   ]
  },
  {
   "cell_type": "markdown",
   "id": "0a4bd6c6",
   "metadata": {},
   "source": [
    "We can now compare the evolution of the two portfolios and their total returns at year 30"
   ]
  },
  {
   "cell_type": "code",
   "execution_count": 23,
   "id": "d3de97ec-d322-40f0-8158-d97940248340",
   "metadata": {},
   "outputs": [
    {
     "data": {
      "image/png": "[encoded data removed]",
      "text/plain": [
       "<Figure size 432x288 with 1 Axes>"
      ]
     },
     "metadata": {
      "needs_background": "light"
     },
     "output_type": "display_data"
    }
   ],
   "source": [
    "fig, ax1 = plt.subplots()\n",
    "ax1 = plot_interval(re_summary, ax1, color=\"blue\", fills=[(\"10%\", \"90%\")], alphas=[0.3], lines=[\"50%\"], linestyles=[\"solid\"], legend_prefix=\"RE \")\n",
    "ax1 = plot_interval(etf_summary, ax1, color=\"red\", fills=[(\"10%\", \"90%\")], alphas=[0.3], lines=[\"50%\"], linestyles=[\"solid\"], legend_prefix=\"ETF \")\n",
    "ax1.set_xlabel(\"year\")\n",
    "ax1.set_title(\"RE vs ETF portfolios values\")\n",
    "ax1.set_yscale(\"log\")\n",
    "ax1.grid()\n",
    "plt.show(block=False)"
   ]
  },
  {
   "cell_type": "code",
   "execution_count": 24,
   "id": "6505685d-dd74-45c6-b7cf-4432967b2b1b",
   "metadata": {},
   "outputs": [
    {
     "data": {
      "image/png": "[encoded data removed]",
      "text/plain": [
       "<Figure size 432x288 with 1 Axes>"
      ]
     },
     "metadata": {
      "needs_background": "light"
     },
     "output_type": "display_data"
    }
   ],
   "source": [
    "fig, ax1 = plt.subplots()\n",
    "re_ptf_returns = (re_ptf.iloc[-1]/re_invested_amounts.cumsum().iloc[-1])\n",
    "etf_ptf_returns = (etf_values.iloc[-1]/re_invested_amounts.cumsum().iloc[-1])\n",
    "re_ptf_returns.hist(ax=ax1, bins=100, color=\"b\", density=1, alpha=0.3)\n",
    "etf_ptf_returns.hist(ax=ax1, bins=100, color=\"r\", alpha=0.3, density=1)\n",
    "ax1.set_xlim([0, 25])\n",
    "ylims = ax1.get_ylim()\n",
    "ax1.plot([re_ptf_returns.median()]*2, ylims, color=\"b\", label=\"RE median\")\n",
    "ax1.plot([re_ptf_returns.mean()]*2, ylims, color=\"b\", linestyle=\"--\", label=\"RE mean\")\n",
    "ax1.plot([etf_ptf_returns.median()]*2, ylims, color=\"r\", label=\"ETF median\")\n",
    "ax1.plot([etf_ptf_returns.mean()]*2, ylims, color=\"r\", linestyle=\"--\", label=\"ETF mean\")\n",
    "ax1.title.set_text(\"distribution of the total returns at year 30\")\n",
    "ax1.set_xlabel(\"returns\")\n",
    "ax1.legend()\n",
    "ax1.grid()\n",
    "plt.show(block=False)"
   ]
  }
 ],
 "metadata": {
  "jupytext": {
   "cell_metadata_filter": "-all",
   "main_language": "python",
   "notebook_metadata_filter": "-all"
  },
  "kernelspec": {
   "display_name": "Python 3 (ipykernel)",
   "language": "python",
   "name": "python3"
  },
  "language_info": {
   "codemirror_mode": {
    "name": "ipython",
    "version": 3
   },
   "file_extension": ".py",
   "mimetype": "text/x-python",
   "name": "python",
   "nbconvert_exporter": "python",
   "pygments_lexer": "ipython3",
   "version": "3.9.7"
  }
 },
 "nbformat": 4,
 "nbformat_minor": 5
}
